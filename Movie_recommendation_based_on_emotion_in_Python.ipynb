{
  "nbformat": 4,
  "nbformat_minor": 0,
  "metadata": {
    "colab": {
      "provenance": [],
      "authorship_tag": "ABX9TyNOMRDXdapQFGoIG4guIiAW",
      "include_colab_link": true
    },
    "kernelspec": {
      "name": "python3",
      "display_name": "Python 3"
    },
    "language_info": {
      "name": "python"
    }
  },
  "cells": [
    {
      "cell_type": "markdown",
      "metadata": {
        "id": "view-in-github",
        "colab_type": "text"
      },
      "source": [
        "<a href=\"https://colab.research.google.com/github/venukashoju/ML/blob/main/Movie_recommendation_based_on_emotion_in_Python.ipynb\" target=\"_parent\"><img src=\"https://colab.research.google.com/assets/colab-badge.svg\" alt=\"Open In Colab\"/></a>"
      ]
    },
    {
      "cell_type": "code",
      "source": [
        "!pip install beautifulsoup4\n",
        "!pip install lxml"
      ],
      "metadata": {
        "colab": {
          "base_uri": "https://localhost:8080/"
        },
        "id": "WspGSn7sc7oa",
        "outputId": "d278d100-afcd-4bfe-f1c1-a62643585be6"
      },
      "execution_count": null,
      "outputs": [
        {
          "output_type": "stream",
          "name": "stdout",
          "text": [
            "Requirement already satisfied: beautifulsoup4 in /usr/local/lib/python3.10/dist-packages (4.12.3)\n",
            "Requirement already satisfied: soupsieve>1.2 in /usr/local/lib/python3.10/dist-packages (from beautifulsoup4) (2.6)\n",
            "Requirement already satisfied: lxml in /usr/local/lib/python3.10/dist-packages (4.9.4)\n"
          ]
        }
      ]
    },
    {
      "cell_type": "code",
      "source": [
        "import requests\n",
        "from bs4 import BeautifulSoup\n",
        "import re\n",
        "\n",
        "\n",
        "URLS = {\n",
        "    \"Drama\": 'https://www.imdb.com/search/title/?title_type=feature&genres=drama',\n",
        "    \"Action\": 'https://www.imdb.com/search/title/?title_type=feature&genres=action',\n",
        "    \"Comedy\": 'https://www.imdb.com/search/title/?title_type=feature&genres=comedy',\n",
        "    \"Horror\": 'https://www.imdb.com/search/title/?title_type=feature&genres=horror',\n",
        "    \"Crime\": 'https://www.imdb.com/search/title/?title_type=feature&genres=crime',\n",
        "    \"Super hero\":'https://www.imdb.com/list/ls008583762/'\n",
        "}\n",
        "\n",
        "def main(emotion):\n",
        "    url = URLS.get(emotion)\n",
        "    print(\"ok\", url)\n",
        "    if not url:\n",
        "        print(\"Invalid emotion.\")\n",
        "        return []\n",
        "\n",
        "    headers = {\n",
        "    'User-Agent':\n",
        "    'Mozilla/5.0 (Windows NT 10.0; Win64; x64) AppleWebKit/537.36 (KHTML, like Gecko) Chrome/91.0.4472.124 Safari/537.36'\n",
        "}\n",
        "    try:\n",
        "        response = requests.get(url, headers=headers)\n",
        "        response.raise_for_status()\n",
        "    except requests.RequestException as e:\n",
        "        print(f\"Error fetching data: {e}\")\n",
        "        return []\n",
        "    soup = BeautifulSoup(response.text, \"lxml\")\n",
        "    titles = [a.get_text() for a in soup.find_all('a', href=re.compile(r'/title/tt\\d+/'))]\n",
        "    return titles\n",
        "\n",
        "if __name__ == '__main__':\n",
        "    emotion = input(\"Enter the emotion: \").strip()\n",
        "    movie_titles = main(emotion)\n",
        "\n",
        "    if not movie_titles:\n",
        "        print(\"No titles found.\")\n",
        "    else:\n",
        "        max_titles = 100 if emotion in [\"Drama\", \"Action\", \"Comedy\", \"Horror\", \"Crime\",\"Super hero\"] else 50\n",
        "        for title in movie_titles[:max_titles]:\n",
        "            print(title)"
      ],
      "metadata": {
        "colab": {
          "base_uri": "https://localhost:8080/"
        },
        "id": "jY83D0ZkeRA5",
        "outputId": "41fb5bfe-01d0-4cd4-ad66-eae64e7d08da"
      },
      "execution_count": 32,
      "outputs": [
        {
          "output_type": "stream",
          "name": "stdout",
          "text": [
            "Enter the emotion: Comedy\n",
            "ok https://www.imdb.com/search/title/?title_type=feature&genres=comedy\n",
            "\n",
            "1. Beetlejuice Beetlejuice\n",
            "\n",
            "2. Beetlejuice\n",
            "\n",
            "3. Deadpool & Wolverine\n",
            "\n",
            "4. Kinds of Kindness\n",
            "\n",
            "5. Borderlands\n",
            "\n",
            "6. The Fall Guy\n",
            "\n",
            "7. The Union\n",
            "\n",
            "8. Stree 2: Sarkate Ka Aatank\n",
            "\n",
            "9. Incoming\n",
            "\n",
            "10. Inside Out 2\n",
            "\n",
            "11. Sonic the Hedgehog 3\n",
            "\n",
            "12. Nightbitch\n",
            "\n",
            "13. The Ministry of Ungentlemanly Warfare\n",
            "\n",
            "14. Jackpot!\n",
            "\n",
            "15. Aloha\n",
            "\n",
            "16. Hit Man\n",
            "\n",
            "17. Anyone But You\n",
            "\n",
            "18. The Instigators\n",
            "\n",
            "19. Despicable Me 4\n",
            "\n",
            "20. Poor Things\n",
            "\n",
            "21. IF\n",
            "\n",
            "22. Bad Boys: Ride or Die\n",
            "\n",
            "23. Dìdi\n",
            "\n",
            "24. Fly Me to the Moon\n",
            "\n",
            "25. Emilia Pérez\n"
          ]
        }
      ]
    }
  ]
}